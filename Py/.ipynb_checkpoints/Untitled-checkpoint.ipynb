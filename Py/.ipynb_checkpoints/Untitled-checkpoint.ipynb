{
 "cells": [
  {
   "cell_type": "code",
   "execution_count": 13,
   "id": "f75c87f1",
   "metadata": {},
   "outputs": [],
   "source": [
    "import mysql.connector  \n",
    "\n",
    "mydb = mysql.connector.connect(\n",
    "    host='localhost',\n",
    "    user='root',\n",
    "    password='password13258046A@',\n",
    "    database = 'testpython'\n",
    ")\n",
    "\n",
    "mycursor = mydb.cursor()\n",
    "\n",
    "mycursor.execute(\"create database testpython\")"
   ]
  },
  {
   "cell_type": "code",
   "execution_count": 15,
   "id": "e95f6023",
   "metadata": {},
   "outputs": [],
   "source": [
    "def criarTabela():\n",
    "    mycursor.execute(\"create table testpython.clientes (nome varchar(50) , senha varchar(30))\")\n",
    "criarTabela()"
   ]
  },
  {
   "cell_type": "code",
   "execution_count": 18,
   "id": "22fafbc2",
   "metadata": {},
   "outputs": [
    {
     "name": "stdout",
     "output_type": "stream",
     "text": [
      "Digite seu nome :davi\n",
      "Digite sua senha :123456\n"
     ]
    }
   ],
   "source": [
    "def inserirDados():\n",
    "    \n",
    "    input_nome = input('Digite seu nome :')\n",
    "    input_senha = input('Digite sua senha :')\n",
    "    \n",
    "    sql = 'insert into testpython.clientes (nome ,senha) values (%s,%s)'\n",
    "    val = (input_nome ,input_senha)\n",
    "    \n",
    "    mycursor.execute(sql ,val)\n",
    "    \n",
    "    mydb.commit()\n",
    "\n",
    "inserirDados()"
   ]
  },
  {
   "cell_type": "code",
   "execution_count": 19,
   "id": "850243f6",
   "metadata": {},
   "outputs": [
    {
     "name": "stdout",
     "output_type": "stream",
     "text": [
      "('davi ', '123456')\n",
      "('davi', '123456')\n"
     ]
    }
   ],
   "source": [
    "def vizualizarDados():\n",
    "    mycursor.execute('select * from testpython.clientes')\n",
    "    result = mycursor.fetchall()\n",
    "    \n",
    "    for x in result:\n",
    "        print(x)\n",
    "\n",
    "vizualizarDados()"
   ]
  },
  {
   "cell_type": "code",
   "execution_count": null,
   "id": "c243aafe",
   "metadata": {},
   "outputs": [],
   "source": []
  }
 ],
 "metadata": {
  "kernelspec": {
   "display_name": "Python 3 (ipykernel)",
   "language": "python",
   "name": "python3"
  },
  "language_info": {
   "codemirror_mode": {
    "name": "ipython",
    "version": 3
   },
   "file_extension": ".py",
   "mimetype": "text/x-python",
   "name": "python",
   "nbconvert_exporter": "python",
   "pygments_lexer": "ipython3",
   "version": "3.8.10"
  }
 },
 "nbformat": 4,
 "nbformat_minor": 5
}
